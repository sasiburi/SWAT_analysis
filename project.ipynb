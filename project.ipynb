{
 "cells": [
  {
   "cell_type": "markdown",
   "metadata": {
    "id": "etniX_KTlJ5U"
   },
   "source": [
    "# USAD"
   ]
  },
  {
   "cell_type": "markdown",
   "metadata": {
    "id": "N3jM0qLU8MgZ"
   },
   "source": [
    "## Environment"
   ]
  },
  {
   "cell_type": "code",
   "execution_count": 1,
   "metadata": {
    "id": "6u1DGKsAlLF-"
   },
   "outputs": [],
   "source": [
    "import numpy as np\n",
    "import pandas as pd\n",
    "import matplotlib.pyplot as plt\n",
    "import seaborn as sns\n",
    "import torch\n",
    "import torch.nn as nn\n",
    "\n",
    "from utils import *\n",
    "from usad import *"
   ]
  },
  {
   "cell_type": "code",
   "execution_count": 2,
   "metadata": {
    "colab": {
     "base_uri": "https://localhost:8080/",
     "height": 34
    },
    "id": "4AzWlDBI_djV",
    "outputId": "7a8d0c19-2389-461b-c0be-3427a25dda91"
   },
   "outputs": [],
   "source": [
    "device = get_default_device()"
   ]
  },
  {
   "cell_type": "markdown",
   "metadata": {
    "id": "1crx5rGP9ONf"
   },
   "source": [
    "## EDA - Data Pre-Processing"
   ]
  },
  {
   "cell_type": "markdown",
   "metadata": {
    "id": "kfSj4FYL9W8Y"
   },
   "source": [
    "### Normal period"
   ]
  },
  {
   "cell_type": "code",
   "execution_count": 3,
   "metadata": {
    "colab": {
     "base_uri": "https://localhost:8080/",
     "height": 87
    },
    "id": "XeDLxV_r1G9n",
    "outputId": "576538dd-64f2-46fa-8e6f-6c2ffdebad15"
   },
   "outputs": [
    {
     "name": "stderr",
     "output_type": "stream",
     "text": [
      "/var/folders/k3/dm3pbfdd7ysgk9czg_x952pc0000gn/T/ipykernel_45872/3202893291.py:2: DtypeWarning: Columns (26) have mixed types. Specify dtype option on import or set low_memory=False.\n",
      "  normal = pd.read_csv(\"input/SWaT_Dataset_Normal_v1.csv\")#, nrows=1000)\n"
     ]
    },
    {
     "data": {
      "text/plain": [
       "(495000, 51)"
      ]
     },
     "execution_count": 3,
     "metadata": {},
     "output_type": "execute_result"
    }
   ],
   "source": [
    "#Read data\n",
    "normal = pd.read_csv(\"input/SWaT_Dataset_Normal_v1.csv\")#, nrows=1000)\n",
    "normal = normal.drop([\"Timestamp\" , \"Normal/Attack\" ] , axis = 1)\n",
    "normal.shape"
   ]
  },
  {
   "cell_type": "code",
   "execution_count": 4,
   "metadata": {
    "id": "fFuLm1GH1G2n"
   },
   "outputs": [],
   "source": [
    "# Transform all columns into float64\n",
    "for i in list(normal): \n",
    "    normal[i]=normal[i].apply(lambda x: str(x).replace(\",\" , \".\"))\n",
    "normal = normal.astype(float)"
   ]
  },
  {
   "cell_type": "markdown",
   "metadata": {
    "id": "zxFNH5kU9hIE"
   },
   "source": [
    "#### Normalization"
   ]
  },
  {
   "cell_type": "code",
   "execution_count": 5,
   "metadata": {
    "id": "Mfxj4Uxn9kv4"
   },
   "outputs": [],
   "source": [
    "from sklearn import preprocessing\n",
    "min_max_scaler = preprocessing.MinMaxScaler()\n",
    "\n",
    "x = normal.values\n",
    "x_scaled = min_max_scaler.fit_transform(x)\n",
    "normal = pd.DataFrame(x_scaled)"
   ]
  },
  {
   "cell_type": "code",
   "execution_count": 6,
   "metadata": {
    "colab": {
     "base_uri": "https://localhost:8080/",
     "height": 126
    },
    "id": "mQ6_U4jn9nlw",
    "outputId": "f1cc1bd6-f1cc-4764-b1cc-2fd989ac4918"
   },
   "outputs": [
    {
     "data": {
      "text/html": [
       "<div>\n",
       "<style scoped>\n",
       "    .dataframe tbody tr th:only-of-type {\n",
       "        vertical-align: middle;\n",
       "    }\n",
       "\n",
       "    .dataframe tbody tr th {\n",
       "        vertical-align: top;\n",
       "    }\n",
       "\n",
       "    .dataframe thead th {\n",
       "        text-align: right;\n",
       "    }\n",
       "</style>\n",
       "<table border=\"1\" class=\"dataframe\">\n",
       "  <thead>\n",
       "    <tr style=\"text-align: right;\">\n",
       "      <th></th>\n",
       "      <th>0</th>\n",
       "      <th>1</th>\n",
       "      <th>2</th>\n",
       "      <th>3</th>\n",
       "      <th>4</th>\n",
       "      <th>5</th>\n",
       "      <th>6</th>\n",
       "      <th>7</th>\n",
       "      <th>8</th>\n",
       "      <th>9</th>\n",
       "      <th>...</th>\n",
       "      <th>41</th>\n",
       "      <th>42</th>\n",
       "      <th>43</th>\n",
       "      <th>44</th>\n",
       "      <th>45</th>\n",
       "      <th>46</th>\n",
       "      <th>47</th>\n",
       "      <th>48</th>\n",
       "      <th>49</th>\n",
       "      <th>50</th>\n",
       "    </tr>\n",
       "  </thead>\n",
       "  <tbody>\n",
       "    <tr>\n",
       "      <th>0</th>\n",
       "      <td>0.0</td>\n",
       "      <td>0.005294</td>\n",
       "      <td>0.5</td>\n",
       "      <td>0.0</td>\n",
       "      <td>0.0</td>\n",
       "      <td>0.012291</td>\n",
       "      <td>0.075099</td>\n",
       "      <td>0.002009</td>\n",
       "      <td>0.0</td>\n",
       "      <td>0.5</td>\n",
       "      <td>...</td>\n",
       "      <td>0.0</td>\n",
       "      <td>0.0</td>\n",
       "      <td>0.0</td>\n",
       "      <td>0.000814</td>\n",
       "      <td>0.0</td>\n",
       "      <td>0.001217</td>\n",
       "      <td>0.000147</td>\n",
       "      <td>0.0</td>\n",
       "      <td>0.0</td>\n",
       "      <td>0.0</td>\n",
       "    </tr>\n",
       "    <tr>\n",
       "      <th>1</th>\n",
       "      <td>0.0</td>\n",
       "      <td>0.005407</td>\n",
       "      <td>0.5</td>\n",
       "      <td>0.0</td>\n",
       "      <td>0.0</td>\n",
       "      <td>0.012291</td>\n",
       "      <td>0.075099</td>\n",
       "      <td>0.002009</td>\n",
       "      <td>0.0</td>\n",
       "      <td>0.5</td>\n",
       "      <td>...</td>\n",
       "      <td>0.0</td>\n",
       "      <td>0.0</td>\n",
       "      <td>0.0</td>\n",
       "      <td>0.000814</td>\n",
       "      <td>0.0</td>\n",
       "      <td>0.001217</td>\n",
       "      <td>0.000147</td>\n",
       "      <td>0.0</td>\n",
       "      <td>0.0</td>\n",
       "      <td>0.0</td>\n",
       "    </tr>\n",
       "  </tbody>\n",
       "</table>\n",
       "<p>2 rows × 51 columns</p>\n",
       "</div>"
      ],
      "text/plain": [
       "    0         1    2    3    4         5         6         7    8    9   ...  \\\n",
       "0  0.0  0.005294  0.5  0.0  0.0  0.012291  0.075099  0.002009  0.0  0.5  ...   \n",
       "1  0.0  0.005407  0.5  0.0  0.0  0.012291  0.075099  0.002009  0.0  0.5  ...   \n",
       "\n",
       "    41   42   43        44   45        46        47   48   49   50  \n",
       "0  0.0  0.0  0.0  0.000814  0.0  0.001217  0.000147  0.0  0.0  0.0  \n",
       "1  0.0  0.0  0.0  0.000814  0.0  0.001217  0.000147  0.0  0.0  0.0  \n",
       "\n",
       "[2 rows x 51 columns]"
      ]
     },
     "execution_count": 6,
     "metadata": {},
     "output_type": "execute_result"
    }
   ],
   "source": [
    "normal.head(2)"
   ]
  },
  {
   "cell_type": "markdown",
   "metadata": {
    "id": "_i71RFAi9spa"
   },
   "source": [
    "### Attack"
   ]
  },
  {
   "cell_type": "code",
   "execution_count": 7,
   "metadata": {
    "colab": {
     "base_uri": "https://localhost:8080/",
     "height": 87
    },
    "id": "aN_TFp5x9uTE",
    "outputId": "38d7993d-c9a3-461d-c430-ebde697afbc6"
   },
   "outputs": [
    {
     "name": "stderr",
     "output_type": "stream",
     "text": [
      "/var/folders/k3/dm3pbfdd7ysgk9czg_x952pc0000gn/T/ipykernel_45872/12158840.py:2: DtypeWarning: Columns (1,9,28,46) have mixed types. Specify dtype option on import or set low_memory=False.\n",
      "  attack = pd.read_csv(\"input/SWaT_Dataset_Attack_v0.csv\",sep=\";\")#, nrows=1000)\n"
     ]
    },
    {
     "data": {
      "text/plain": [
       "(449919, 51)"
      ]
     },
     "execution_count": 7,
     "metadata": {},
     "output_type": "execute_result"
    }
   ],
   "source": [
    "#Read data\n",
    "attack = pd.read_csv(\"input/SWaT_Dataset_Attack_v0.csv\",sep=\";\")#, nrows=1000)\n",
    "labels = [ float(label!= 'Normal' ) for label  in attack[\"Normal/Attack\"].values]\n",
    "attack = attack.drop([\"Timestamp\" , \"Normal/Attack\" ] , axis = 1)\n",
    "attack.shape"
   ]
  },
  {
   "cell_type": "code",
   "execution_count": 8,
   "metadata": {
    "id": "qLCInT-I9_-D"
   },
   "outputs": [],
   "source": [
    "# Transform all columns into float64\n",
    "for i in list(attack):\n",
    "    attack[i]=attack[i].apply(lambda x: str(x).replace(\",\" , \".\"))\n",
    "attack = attack.astype(float)"
   ]
  },
  {
   "cell_type": "markdown",
   "metadata": {
    "id": "c4cB4v3N-Dhu"
   },
   "source": [
    "#### Normalization"
   ]
  },
  {
   "cell_type": "code",
   "execution_count": 9,
   "metadata": {
    "id": "jZrha9cO-BGK"
   },
   "outputs": [],
   "source": [
    "from sklearn import preprocessing\n",
    "\n",
    "x = attack.values \n",
    "x_scaled = min_max_scaler.transform(x)\n",
    "attack = pd.DataFrame(x_scaled)"
   ]
  },
  {
   "cell_type": "code",
   "execution_count": 10,
   "metadata": {
    "colab": {
     "base_uri": "https://localhost:8080/",
     "height": 126
    },
    "id": "z9SwiPco-BUa",
    "outputId": "f2507282-c0f9-4253-ece7-0a802b68240f"
   },
   "outputs": [
    {
     "data": {
      "text/html": [
       "<div>\n",
       "<style scoped>\n",
       "    .dataframe tbody tr th:only-of-type {\n",
       "        vertical-align: middle;\n",
       "    }\n",
       "\n",
       "    .dataframe tbody tr th {\n",
       "        vertical-align: top;\n",
       "    }\n",
       "\n",
       "    .dataframe thead th {\n",
       "        text-align: right;\n",
       "    }\n",
       "</style>\n",
       "<table border=\"1\" class=\"dataframe\">\n",
       "  <thead>\n",
       "    <tr style=\"text-align: right;\">\n",
       "      <th></th>\n",
       "      <th>0</th>\n",
       "      <th>1</th>\n",
       "      <th>2</th>\n",
       "      <th>3</th>\n",
       "      <th>4</th>\n",
       "      <th>5</th>\n",
       "      <th>6</th>\n",
       "      <th>7</th>\n",
       "      <th>8</th>\n",
       "      <th>9</th>\n",
       "      <th>...</th>\n",
       "      <th>41</th>\n",
       "      <th>42</th>\n",
       "      <th>43</th>\n",
       "      <th>44</th>\n",
       "      <th>45</th>\n",
       "      <th>46</th>\n",
       "      <th>47</th>\n",
       "      <th>48</th>\n",
       "      <th>49</th>\n",
       "      <th>50</th>\n",
       "    </tr>\n",
       "  </thead>\n",
       "  <tbody>\n",
       "    <tr>\n",
       "      <th>0</th>\n",
       "      <td>0.884144</td>\n",
       "      <td>0.577133</td>\n",
       "      <td>1.0</td>\n",
       "      <td>1.0</td>\n",
       "      <td>0.0</td>\n",
       "      <td>0.496158</td>\n",
       "      <td>0.188845</td>\n",
       "      <td>0.064088</td>\n",
       "      <td>0.982899</td>\n",
       "      <td>1.0</td>\n",
       "      <td>...</td>\n",
       "      <td>0.970903</td>\n",
       "      <td>1.0</td>\n",
       "      <td>0.0</td>\n",
       "      <td>0.946125</td>\n",
       "      <td>0.449782</td>\n",
       "      <td>0.944116</td>\n",
       "      <td>0.000073</td>\n",
       "      <td>0.0</td>\n",
       "      <td>0.0</td>\n",
       "      <td>0.0</td>\n",
       "    </tr>\n",
       "    <tr>\n",
       "      <th>1</th>\n",
       "      <td>0.891145</td>\n",
       "      <td>0.577190</td>\n",
       "      <td>1.0</td>\n",
       "      <td>1.0</td>\n",
       "      <td>0.0</td>\n",
       "      <td>0.496158</td>\n",
       "      <td>0.188845</td>\n",
       "      <td>0.064088</td>\n",
       "      <td>0.982899</td>\n",
       "      <td>1.0</td>\n",
       "      <td>...</td>\n",
       "      <td>0.970903</td>\n",
       "      <td>1.0</td>\n",
       "      <td>0.0</td>\n",
       "      <td>0.946125</td>\n",
       "      <td>0.449782</td>\n",
       "      <td>0.944521</td>\n",
       "      <td>0.000073</td>\n",
       "      <td>0.0</td>\n",
       "      <td>0.0</td>\n",
       "      <td>0.0</td>\n",
       "    </tr>\n",
       "  </tbody>\n",
       "</table>\n",
       "<p>2 rows × 51 columns</p>\n",
       "</div>"
      ],
      "text/plain": [
       "         0         1    2    3    4         5         6         7         8   \\\n",
       "0  0.884144  0.577133  1.0  1.0  0.0  0.496158  0.188845  0.064088  0.982899   \n",
       "1  0.891145  0.577190  1.0  1.0  0.0  0.496158  0.188845  0.064088  0.982899   \n",
       "\n",
       "    9   ...        41   42   43        44        45        46        47   48  \\\n",
       "0  1.0  ...  0.970903  1.0  0.0  0.946125  0.449782  0.944116  0.000073  0.0   \n",
       "1  1.0  ...  0.970903  1.0  0.0  0.946125  0.449782  0.944521  0.000073  0.0   \n",
       "\n",
       "    49   50  \n",
       "0  0.0  0.0  \n",
       "1  0.0  0.0  \n",
       "\n",
       "[2 rows x 51 columns]"
      ]
     },
     "execution_count": 10,
     "metadata": {},
     "output_type": "execute_result"
    }
   ],
   "source": [
    "attack.head(2)"
   ]
  },
  {
   "cell_type": "markdown",
   "metadata": {
    "id": "xXJi503b-j_d"
   },
   "source": [
    "### Windows"
   ]
  },
  {
   "cell_type": "code",
   "execution_count": 11,
   "metadata": {
    "id": "vyplttZa-BRN"
   },
   "outputs": [],
   "source": [
    "window_size=12"
   ]
  },
  {
   "cell_type": "code",
   "execution_count": 12,
   "metadata": {
    "colab": {
     "base_uri": "https://localhost:8080/",
     "height": 34
    },
    "id": "dzGJMp6Y-BN5",
    "outputId": "2949d278-1313-442c-f06b-275a8c6c6578"
   },
   "outputs": [
    {
     "data": {
      "text/plain": [
       "(494988, 12, 51)"
      ]
     },
     "execution_count": 12,
     "metadata": {},
     "output_type": "execute_result"
    }
   ],
   "source": [
    "windows_normal=normal.values[np.arange(window_size)[None, :] + np.arange(normal.shape[0]-window_size)[:, None]]\n",
    "windows_normal.shape"
   ]
  },
  {
   "cell_type": "code",
   "execution_count": 13,
   "metadata": {
    "colab": {
     "base_uri": "https://localhost:8080/",
     "height": 34
    },
    "id": "17LdB3c8-pRH",
    "outputId": "721059d4-5937-4dd3-d73c-e5d255fc273c"
   },
   "outputs": [
    {
     "data": {
      "text/plain": [
       "(449907, 12, 51)"
      ]
     },
     "execution_count": 13,
     "metadata": {},
     "output_type": "execute_result"
    }
   ],
   "source": [
    "windows_attack=attack.values[np.arange(window_size)[None, :] + np.arange(attack.shape[0]-window_size)[:, None]]\n",
    "windows_attack.shape"
   ]
  },
  {
   "cell_type": "markdown",
   "metadata": {
    "id": "k70ZFxGs-_7m"
   },
   "source": [
    "## Training"
   ]
  },
  {
   "cell_type": "code",
   "execution_count": 14,
   "metadata": {
    "id": "yi9S0SGnDKNc"
   },
   "outputs": [],
   "source": [
    "import torch.utils.data as data_utils\n",
    "\n",
    "BATCH_SIZE = 5000\n",
    "N_EPOCHS = 10\n",
    "hidden_size = 100\n",
    "\n",
    "w_size=windows_normal.shape[1]*windows_normal.shape[2]\n",
    "z_size=windows_normal.shape[1]*hidden_size\n",
    "\n",
    "windows_normal_train = windows_normal[:int(np.floor(.8 *  windows_normal.shape[0]))]\n",
    "windows_normal_val = windows_normal[int(np.floor(.8 *  windows_normal.shape[0])):int(np.floor(windows_normal.shape[0]))]\n",
    "\n",
    "train_loader = torch.utils.data.DataLoader(data_utils.TensorDataset(\n",
    "    torch.from_numpy(windows_normal_train).float().view(([windows_normal_train.shape[0],w_size]))\n",
    ") , batch_size=BATCH_SIZE, shuffle=False, num_workers=0)\n",
    "\n",
    "val_loader = torch.utils.data.DataLoader(data_utils.TensorDataset(\n",
    "    torch.from_numpy(windows_normal_val).float().view(([windows_normal_val.shape[0],w_size]))\n",
    ") , batch_size=BATCH_SIZE, shuffle=False, num_workers=0)\n",
    "\n",
    "test_loader = torch.utils.data.DataLoader(data_utils.TensorDataset(\n",
    "    torch.from_numpy(windows_attack).float().view(([windows_attack.shape[0],w_size]))\n",
    ") , batch_size=BATCH_SIZE, shuffle=False, num_workers=0)\n",
    "\n",
    "model = UsadModel(w_size, z_size)\n",
    "model = to_device(model,device)"
   ]
  },
  {
   "cell_type": "code",
   "execution_count": 15,
   "metadata": {
    "colab": {
     "base_uri": "https://localhost:8080/",
     "height": 1000
    },
    "id": "So9yjDPEDObC",
    "outputId": "629bcd13-37b1-4907-ef0d-46d9e3ad5398",
    "scrolled": true
   },
   "outputs": [
    {
     "name": "stdout",
     "output_type": "stream",
     "text": [
      "Epoch[0], val_loss1: 0.0182, val_loss2: 0.0174\n",
      "Epoch[1], val_loss1: 0.0476, val_loss2: -0.0313\n",
      "Epoch[2], val_loss1: 0.0603, val_loss2: -0.0495\n",
      "Epoch[3], val_loss1: 0.0155, val_loss2: -0.0074\n",
      "Epoch[4], val_loss1: 0.0139, val_loss2: -0.0085\n",
      "Epoch[5], val_loss1: 0.0143, val_loss2: -0.0097\n",
      "Epoch[6], val_loss1: 0.0139, val_loss2: -0.0099\n",
      "Epoch[7], val_loss1: 0.0146, val_loss2: -0.0112\n",
      "Epoch[8], val_loss1: 0.1189, val_loss2: -0.1141\n",
      "Epoch[9], val_loss1: 0.0615, val_loss2: -0.0531\n"
     ]
    }
   ],
   "source": [
    "history = training(N_EPOCHS,model,train_loader,val_loader)"
   ]
  },
  {
   "cell_type": "code",
   "execution_count": 16,
   "metadata": {
    "colab": {
     "base_uri": "https://localhost:8080/",
     "height": 295
    },
    "id": "fYwlN0JKVVtN",
    "outputId": "c742ff8b-3b4a-41f5-dd09-effee1be928a"
   },
   "outputs": [
    {
     "data": {
      "image/png": "[encoded data removed]",
      "text/plain": [
       "<Figure size 432x288 with 1 Axes>"
      ]
     },
     "metadata": {
      "needs_background": "light"
     },
     "output_type": "display_data"
    }
   ],
   "source": [
    "plot_history(history)"
   ]
  },
  {
   "cell_type": "code",
   "execution_count": 17,
   "metadata": {
    "id": "ieObNqKYsOzh"
   },
   "outputs": [],
   "source": [
    "torch.save({\n",
    "            'encoder': model.encoder.state_dict(),\n",
    "            'decoder1': model.decoder1.state_dict(),\n",
    "            'decoder2': model.decoder2.state_dict()\n",
    "            }, \"model.pth\")"
   ]
  },
  {
   "cell_type": "markdown",
   "metadata": {
    "id": "ymhjbmvR_DgJ"
   },
   "source": [
    "## Testing"
   ]
  },
  {
   "cell_type": "code",
   "execution_count": 18,
   "metadata": {
    "colab": {
     "base_uri": "https://localhost:8080/",
     "height": 34
    },
    "id": "b7rbm9wdXKeF",
    "outputId": "076309c7-22be-41f6-f916-5f11cb679672"
   },
   "outputs": [
    {
     "data": {
      "text/plain": [
       "<All keys matched successfully>"
      ]
     },
     "execution_count": 18,
     "metadata": {},
     "output_type": "execute_result"
    }
   ],
   "source": [
    "checkpoint = torch.load(\"model.pth\")\n",
    "\n",
    "model.encoder.load_state_dict(checkpoint['encoder'])\n",
    "model.decoder1.load_state_dict(checkpoint['decoder1'])\n",
    "model.decoder2.load_state_dict(checkpoint['decoder2'])"
   ]
  },
  {
   "cell_type": "code",
   "execution_count": 19,
   "metadata": {
    "id": "Ry1QTp6V2ny4"
   },
   "outputs": [],
   "source": [
    "results=testing(model,test_loader)"
   ]
  },
  {
   "cell_type": "code",
   "execution_count": 20,
   "metadata": {},
   "outputs": [],
   "source": [
    "windows_labels=[]\n",
    "for i in range(len(labels)-window_size):\n",
    "    windows_labels.append(list(np.int_(labels[i:i+window_size])))"
   ]
  },
  {
   "cell_type": "code",
   "execution_count": 21,
   "metadata": {},
   "outputs": [],
   "source": [
    "y_test = [1.0 if (np.sum(window) > 0) else 0 for window in windows_labels ]"
   ]
  },
  {
   "cell_type": "code",
   "execution_count": 22,
   "metadata": {},
   "outputs": [
    {
     "data": {
      "text/plain": [
       "55006"
      ]
     },
     "execution_count": 22,
     "metadata": {},
     "output_type": "execute_result"
    }
   ],
   "source": [
    "counts = 0\n",
    "for y in y_test:\n",
    "    if y:\n",
    "        counts += 1\n",
    "counts"
   ]
  },
  {
   "cell_type": "code",
   "execution_count": 23,
   "metadata": {},
   "outputs": [
    {
     "name": "stdout",
     "output_type": "stream",
     "text": [
      "Total samples:  449907\n",
      "Percentage of Anomalies: 0.12226082279226595\n"
     ]
    }
   ],
   "source": [
    "print(\"Total samples: \", len(y_test))\n",
    "print(\"Percentage of Anomalies:\", counts/len(y_test))"
   ]
  },
  {
   "cell_type": "code",
   "execution_count": 24,
   "metadata": {
    "id": "FSWwxheNvxR7"
   },
   "outputs": [],
   "source": [
    "y_pred=np.concatenate([torch.stack(results[:-1]).flatten().detach().cpu().numpy(),\n",
    "                              results[-1].flatten().detach().cpu().numpy()])"
   ]
  },
  {
   "cell_type": "code",
   "execution_count": 25,
   "metadata": {
    "colab": {
     "base_uri": "https://localhost:8080/",
     "height": 279
    },
    "id": "bROUyLM93cG3",
    "outputId": "755359d9-d0fb-4deb-b313-d3c2a2465a26"
   },
   "outputs": [
    {
     "data": {
      "image/png": "[encoded data removed]",
      "text/plain": [
       "<Figure size 432x288 with 1 Axes>"
      ]
     },
     "metadata": {
      "needs_background": "light"
     },
     "output_type": "display_data"
    }
   ],
   "source": [
    "threshold=ROC(y_test,y_pred)"
   ]
  },
  {
   "cell_type": "markdown",
   "metadata": {},
   "source": [
    "## Comparison with Basic AutoEncoder"
   ]
  },
  {
   "cell_type": "code",
   "execution_count": 26,
   "metadata": {},
   "outputs": [],
   "source": [
    "from ae import *\n",
    "ae_model = AE(w_size, z_size)\n",
    "ae_model = to_device(ae_model,device)"
   ]
  },
  {
   "cell_type": "code",
   "execution_count": 27,
   "metadata": {},
   "outputs": [
    {
     "name": "stdout",
     "output_type": "stream",
     "text": [
      "Epoch[0], val_loss:0.0007\n",
      "Epoch[1], val_loss:0.0001\n",
      "Epoch[2], val_loss:0.0000\n",
      "Epoch[3], val_loss:0.0000\n",
      "Epoch[4], val_loss:0.0000\n",
      "Epoch[5], val_loss:0.0000\n",
      "Epoch[6], val_loss:0.0000\n",
      "Epoch[7], val_loss:0.0000\n",
      "Epoch[8], val_loss:0.0000\n",
      "Epoch[9], val_loss:0.0000\n"
     ]
    }
   ],
   "source": [
    "history_ae = training_ae(N_EPOCHS,ae_model,train_loader,val_loader)"
   ]
  },
  {
   "cell_type": "code",
   "execution_count": 28,
   "metadata": {},
   "outputs": [
    {
     "data": {
      "image/png": "[encoded data removed]",
      "text/plain": [
       "<Figure size 432x288 with 1 Axes>"
      ]
     },
     "metadata": {
      "needs_background": "light"
     },
     "output_type": "display_data"
    }
   ],
   "source": [
    "losses = [x['val_loss'] for x in history_ae]\n",
    "plt.plot(losses, '-x', label=\"loss\")\n",
    "plt.xlabel('epoch')\n",
    "plt.ylabel('loss')\n",
    "plt.legend()\n",
    "plt.title('Losses vs. No. of epochs')\n",
    "plt.grid()\n",
    "plt.show()"
   ]
  },
  {
   "cell_type": "code",
   "execution_count": 29,
   "metadata": {},
   "outputs": [],
   "source": [
    "torch.save({\n",
    "            'encoder': ae_model.encoder.state_dict(),\n",
    "            'decoder': ae_model.decoder.state_dict()\n",
    "            }, \"ae.pth\")"
   ]
  },
  {
   "cell_type": "code",
   "execution_count": 30,
   "metadata": {},
   "outputs": [],
   "source": [
    "results_ae=testing_ae(ae_model,test_loader)\n",
    "pred_ae=np.concatenate([torch.stack(results_ae[:-1]).flatten().detach().cpu().numpy(),\n",
    "                              results_ae[-1].flatten().detach().cpu().numpy()])"
   ]
  },
  {
   "cell_type": "code",
   "execution_count": 31,
   "metadata": {},
   "outputs": [
    {
     "data": {
      "image/png": "[encoded data removed]",
      "text/plain": [
       "<Figure size 432x288 with 1 Axes>"
      ]
     },
     "metadata": {
      "needs_background": "light"
     },
     "output_type": "display_data"
    }
   ],
   "source": [
    "threshold_ae=ROC(y_test,pred_ae)"
   ]
  },
  {
   "cell_type": "markdown",
   "metadata": {},
   "source": [
    "## Parameter Tuning"
   ]
  },
  {
   "cell_type": "markdown",
   "metadata": {},
   "source": [
    "#### Increase number of epochs"
   ]
  },
  {
   "cell_type": "code",
   "execution_count": 32,
   "metadata": {},
   "outputs": [],
   "source": [
    "def define_model(BATCH_SIZE, N_EPOCHS, hidden_size):\n",
    "\n",
    "    w_size=windows_normal.shape[1]*windows_normal.shape[2]\n",
    "    z_size=windows_normal.shape[1]*hidden_size\n",
    "\n",
    "    windows_normal_train = windows_normal[:int(np.floor(.8 *  windows_normal.shape[0]))]\n",
    "    windows_normal_val = windows_normal[int(np.floor(.8 *  windows_normal.shape[0])):int(np.floor(windows_normal.shape[0]))]\n",
    "\n",
    "    train_loader = torch.utils.data.DataLoader(data_utils.TensorDataset(\n",
    "        torch.from_numpy(windows_normal_train).float().view(([windows_normal_train.shape[0],w_size]))\n",
    "    ) , batch_size=BATCH_SIZE, shuffle=False, num_workers=0)\n",
    "\n",
    "    val_loader = torch.utils.data.DataLoader(data_utils.TensorDataset(\n",
    "        torch.from_numpy(windows_normal_val).float().view(([windows_normal_val.shape[0],w_size]))\n",
    "    ) , batch_size=BATCH_SIZE, shuffle=False, num_workers=0)\n",
    "\n",
    "    test_loader = torch.utils.data.DataLoader(data_utils.TensorDataset(\n",
    "        torch.from_numpy(windows_attack).float().view(([windows_attack.shape[0],w_size]))\n",
    "    ) , batch_size=BATCH_SIZE, shuffle=False, num_workers=0)\n",
    "\n",
    "    model = UsadModel(w_size, z_size)\n",
    "    model = to_device(model,device)\n",
    "    return model, train_loader, val_loader, test_loader"
   ]
  },
  {
   "cell_type": "code",
   "execution_count": 33,
   "metadata": {},
   "outputs": [],
   "source": [
    "model1, train_loader1, val_loader1, test_loader1 = define_model(7919, 50, 100)"
   ]
  },
  {
   "cell_type": "code",
   "execution_count": 34,
   "metadata": {},
   "outputs": [
    {
     "name": "stdout",
     "output_type": "stream",
     "text": [
      "Epoch[0], val_loss1: 0.0251, val_loss2: 0.0253\n",
      "Epoch[1], val_loss1: 0.0145, val_loss2: -0.0003\n",
      "Epoch[2], val_loss1: 0.0185, val_loss2: -0.0068\n",
      "Epoch[3], val_loss1: 0.0181, val_loss2: -0.0095\n",
      "Epoch[4], val_loss1: 0.0145, val_loss2: -0.0089\n",
      "Epoch[5], val_loss1: 0.0151, val_loss2: -0.0105\n",
      "Epoch[6], val_loss1: 0.0150, val_loss2: -0.0113\n",
      "Epoch[7], val_loss1: 0.0142, val_loss2: -0.0110\n",
      "Epoch[8], val_loss1: 0.0157, val_loss2: -0.0129\n",
      "Epoch[9], val_loss1: 0.0202, val_loss2: -0.0171\n",
      "Epoch[10], val_loss1: 0.0182, val_loss2: -0.0157\n",
      "Epoch[11], val_loss1: 0.0192, val_loss2: -0.0167\n",
      "Epoch[12], val_loss1: 0.0218, val_loss2: -0.0198\n",
      "Epoch[13], val_loss1: 0.0202, val_loss2: -0.0182\n",
      "Epoch[14], val_loss1: 0.0201, val_loss2: -0.0184\n",
      "Epoch[15], val_loss1: 0.1246, val_loss2: -0.1200\n",
      "Epoch[16], val_loss1: 0.1304, val_loss2: -0.1279\n",
      "Epoch[17], val_loss1: 0.1357, val_loss2: -0.1270\n",
      "Epoch[18], val_loss1: 0.2272, val_loss2: -0.2119\n",
      "Epoch[19], val_loss1: 0.2258, val_loss2: -0.2130\n",
      "Epoch[20], val_loss1: 0.2267, val_loss2: -0.2148\n",
      "Epoch[21], val_loss1: 0.2271, val_loss2: -0.2158\n",
      "Epoch[22], val_loss1: 0.2275, val_loss2: -0.2168\n",
      "Epoch[23], val_loss1: 0.2280, val_loss2: -0.2176\n",
      "Epoch[24], val_loss1: 0.2283, val_loss2: -0.2184\n",
      "Epoch[25], val_loss1: 0.2287, val_loss2: -0.2192\n",
      "Epoch[26], val_loss1: 0.2290, val_loss2: -0.2198\n",
      "Epoch[27], val_loss1: 0.2293, val_loss2: -0.2205\n",
      "Epoch[28], val_loss1: 0.2295, val_loss2: -0.2211\n",
      "Epoch[29], val_loss1: 0.2298, val_loss2: -0.2216\n",
      "Epoch[30], val_loss1: 0.2301, val_loss2: -0.2222\n",
      "Epoch[31], val_loss1: 0.2309, val_loss2: -0.2232\n",
      "Epoch[32], val_loss1: 0.2311, val_loss2: -0.2237\n",
      "Epoch[33], val_loss1: 0.2314, val_loss2: -0.2242\n",
      "Epoch[34], val_loss1: 0.2315, val_loss2: -0.2246\n",
      "Epoch[35], val_loss1: 0.2317, val_loss2: -0.2250\n",
      "Epoch[36], val_loss1: 0.2319, val_loss2: -0.2253\n",
      "Epoch[37], val_loss1: 0.2321, val_loss2: -0.2257\n",
      "Epoch[38], val_loss1: 0.2322, val_loss2: -0.2260\n",
      "Epoch[39], val_loss1: 0.2328, val_loss2: -0.2267\n",
      "Epoch[40], val_loss1: 0.2329, val_loss2: -0.2269\n",
      "Epoch[41], val_loss1: 0.2331, val_loss2: -0.2272\n",
      "Epoch[42], val_loss1: 0.2336, val_loss2: -0.2279\n",
      "Epoch[43], val_loss1: 0.2337, val_loss2: -0.2282\n",
      "Epoch[44], val_loss1: 0.2339, val_loss2: -0.2285\n",
      "Epoch[45], val_loss1: 0.2343, val_loss2: -0.2290\n",
      "Epoch[46], val_loss1: 0.2348, val_loss2: -0.2296\n",
      "Epoch[47], val_loss1: 0.2349, val_loss2: -0.2298\n",
      "Epoch[48], val_loss1: 0.2350, val_loss2: -0.2300\n",
      "Epoch[49], val_loss1: 0.2351, val_loss2: -0.2302\n"
     ]
    }
   ],
   "source": [
    "history1 = training(50,model1,train_loader1,val_loader1)"
   ]
  },
  {
   "cell_type": "code",
   "execution_count": 35,
   "metadata": {
    "tags": []
   },
   "outputs": [
    {
     "data": {
      "image/png": "[encoded data removed]",
      "text/plain": [
       "<Figure size 432x288 with 1 Axes>"
      ]
     },
     "metadata": {
      "needs_background": "light"
     },
     "output_type": "display_data"
    }
   ],
   "source": [
    "plot_history(history1)"
   ]
  },
  {
   "cell_type": "code",
   "execution_count": 36,
   "metadata": {},
   "outputs": [],
   "source": [
    "torch.save({\n",
    "            'encoder': model1.encoder.state_dict(),\n",
    "            'decoder1': model1.decoder1.state_dict(),\n",
    "            'decoder2': model1.decoder2.state_dict()\n",
    "            }, \"model1.pth\")"
   ]
  },
  {
   "cell_type": "code",
   "execution_count": 37,
   "metadata": {},
   "outputs": [
    {
     "data": {
      "text/plain": [
       "<All keys matched successfully>"
      ]
     },
     "execution_count": 37,
     "metadata": {},
     "output_type": "execute_result"
    }
   ],
   "source": [
    "checkpoint1 = torch.load(\"model1.pth\")\n",
    "\n",
    "model1.encoder.load_state_dict(checkpoint1['encoder'])\n",
    "model1.decoder1.load_state_dict(checkpoint1['decoder1'])\n",
    "model1.decoder2.load_state_dict(checkpoint1['decoder2'])"
   ]
  },
  {
   "cell_type": "code",
   "execution_count": 38,
   "metadata": {},
   "outputs": [
    {
     "data": {
      "image/png": "[encoded data removed]",
      "text/plain": [
       "<Figure size 432x288 with 1 Axes>"
      ]
     },
     "metadata": {
      "needs_background": "light"
     },
     "output_type": "display_data"
    }
   ],
   "source": [
    "results1=testing(model1,test_loader1)\n",
    "y_pred1=np.concatenate([torch.stack(results1[:-1]).flatten().detach().cpu().numpy(),\n",
    "                              results1[-1].flatten().detach().cpu().numpy()])\n",
    "threshold1=ROC(y_test,y_pred1)"
   ]
  },
  {
   "cell_type": "code",
   "execution_count": 39,
   "metadata": {},
   "outputs": [
    {
     "data": {
      "text/plain": [
       "array([0.40142596], dtype=float32)"
      ]
     },
     "execution_count": 39,
     "metadata": {},
     "output_type": "execute_result"
    }
   ],
   "source": [
    "threshold1"
   ]
  },
  {
   "cell_type": "markdown",
   "metadata": {},
   "source": [
    "#### Batch Size"
   ]
  },
  {
   "cell_type": "code",
   "execution_count": 40,
   "metadata": {},
   "outputs": [],
   "source": [
    "model2, train_loader2, val_loader2, test_loader2 = define_model(7919, 10, 100)"
   ]
  },
  {
   "cell_type": "code",
   "execution_count": 41,
   "metadata": {},
   "outputs": [
    {
     "name": "stdout",
     "output_type": "stream",
     "text": [
      "Epoch[0], val_loss1: 0.0259, val_loss2: 0.0262\n",
      "Epoch[1], val_loss1: 0.0292, val_loss2: -0.0060\n",
      "Epoch[2], val_loss1: 0.0353, val_loss2: -0.0237\n",
      "Epoch[3], val_loss1: 0.1150, val_loss2: -0.0871\n",
      "Epoch[4], val_loss1: 0.1101, val_loss2: -0.0981\n",
      "Epoch[5], val_loss1: 0.1140, val_loss2: -0.0865\n",
      "Epoch[6], val_loss1: 0.1162, val_loss2: -0.1081\n",
      "Epoch[7], val_loss1: 0.1156, val_loss2: -0.1102\n",
      "Epoch[8], val_loss1: 0.0396, val_loss2: -0.0346\n",
      "Epoch[9], val_loss1: 0.0367, val_loss2: -0.0309\n"
     ]
    }
   ],
   "source": [
    "history2 = training(10,model2,train_loader2,val_loader2)"
   ]
  },
  {
   "cell_type": "code",
   "execution_count": 42,
   "metadata": {},
   "outputs": [
    {
     "data": {
      "image/png": "[encoded data removed]",
      "text/plain": [
       "<Figure size 432x288 with 1 Axes>"
      ]
     },
     "metadata": {
      "needs_background": "light"
     },
     "output_type": "display_data"
    }
   ],
   "source": [
    "plot_history(history2)"
   ]
  },
  {
   "cell_type": "code",
   "execution_count": 43,
   "metadata": {},
   "outputs": [
    {
     "data": {
      "image/png": "[encoded data removed]",
      "text/plain": [
       "<Figure size 432x288 with 1 Axes>"
      ]
     },
     "metadata": {
      "needs_background": "light"
     },
     "output_type": "display_data"
    }
   ],
   "source": [
    "torch.save({\n",
    "            'encoder': model2.encoder.state_dict(),\n",
    "            'decoder1': model2.decoder1.state_dict(),\n",
    "            'decoder2': model2.decoder2.state_dict()\n",
    "            }, \"model2.pth\")\n",
    "\n",
    "checkpoint2 = torch.load(\"model2.pth\")\n",
    "\n",
    "model2.encoder.load_state_dict(checkpoint2['encoder'])\n",
    "model2.decoder1.load_state_dict(checkpoint2['decoder1'])\n",
    "model2.decoder2.load_state_dict(checkpoint2['decoder2'])\n",
    "\n",
    "results2=testing(model2,test_loader2)\n",
    "y_pred2=np.concatenate([torch.stack(results2[:-1]).flatten().detach().cpu().numpy(),\n",
    "                              results2[-1].flatten().detach().cpu().numpy()])\n",
    "threshold2=ROC(y_test,y_pred2)"
   ]
  },
  {
   "cell_type": "markdown",
   "metadata": {},
   "source": [
    "#### Hidden Nodes"
   ]
  },
  {
   "cell_type": "code",
   "execution_count": 44,
   "metadata": {},
   "outputs": [],
   "source": [
    "# model3, train_loader3, val_loader3, test_loader3 = define_model(7919, 10, 150)"
   ]
  },
  {
   "cell_type": "code",
   "execution_count": 45,
   "metadata": {},
   "outputs": [],
   "source": [
    "# history3 = training(5,model3,train_loader3,val_loader3)"
   ]
  },
  {
   "cell_type": "code",
   "execution_count": 46,
   "metadata": {},
   "outputs": [],
   "source": [
    "# plot_history(history3)"
   ]
  },
  {
   "cell_type": "code",
   "execution_count": 47,
   "metadata": {},
   "outputs": [],
   "source": [
    "# torch.save({\n",
    "#             'encoder': model3.encoder.state_dict(),\n",
    "#             'decoder1': model3.decoder1.state_dict(),\n",
    "#             'decoder2': model3.decoder2.state_dict()\n",
    "#             }, \"model3.pth\")\n",
    "\n",
    "# checkpoint3 = torch.load(\"model3.pth\")\n",
    "\n",
    "# model3.encoder.load_state_dict(checkpoint3['encoder'])\n",
    "# model3.decoder1.load_state_dict(checkpoint3['decoder1'])\n",
    "# model3.decoder2.load_state_dict(checkpoint3['decoder2'])\n",
    "\n",
    "# results3=testing(model3,test_loader3)\n",
    "# y_pred3=np.concatenate([torch.stack(results3[:-1]).flatten().detach().cpu().numpy(),\n",
    "#                               results3[-1].flatten().detach().cpu().numpy()])\n",
    "# threshold3=ROC(y_test,y_pred3)"
   ]
  },
  {
   "cell_type": "markdown",
   "metadata": {},
   "source": [
    "#### Optimal Model"
   ]
  },
  {
   "cell_type": "code",
   "execution_count": 48,
   "metadata": {
    "tags": []
   },
   "outputs": [
    {
     "name": "stdout",
     "output_type": "stream",
     "text": [
      "Epoch[0], val_loss1: 0.0254, val_loss2: 0.0254\n",
      "Epoch[1], val_loss1: 0.0152, val_loss2: -0.0003\n",
      "Epoch[2], val_loss1: 0.0314, val_loss2: -0.0197\n",
      "Epoch[3], val_loss1: 0.0150, val_loss2: -0.0079\n",
      "Epoch[4], val_loss1: 0.0390, val_loss2: -0.0254\n",
      "Epoch[5], val_loss1: 0.0274, val_loss2: -0.0202\n",
      "Epoch[6], val_loss1: 0.0275, val_loss2: -0.0214\n",
      "Epoch[7], val_loss1: 0.0289, val_loss2: -0.0231\n",
      "Epoch[8], val_loss1: 0.0298, val_loss2: -0.0248\n",
      "Epoch[9], val_loss1: 0.0320, val_loss2: -0.0274\n",
      "Epoch[10], val_loss1: 0.0302, val_loss2: -0.0261\n",
      "Epoch[11], val_loss1: 0.0331, val_loss2: -0.0291\n",
      "Epoch[12], val_loss1: 0.0318, val_loss2: -0.0282\n",
      "Epoch[13], val_loss1: 0.0343, val_loss2: -0.0308\n",
      "Epoch[14], val_loss1: 0.0339, val_loss2: -0.0306\n",
      "Epoch[15], val_loss1: 0.0343, val_loss2: -0.0313\n",
      "Epoch[16], val_loss1: 0.0338, val_loss2: -0.0309\n",
      "Epoch[17], val_loss1: 0.0350, val_loss2: -0.0323\n",
      "Epoch[18], val_loss1: 0.0368, val_loss2: -0.0341\n",
      "Epoch[19], val_loss1: 0.0346, val_loss2: -0.0320\n",
      "Epoch[20], val_loss1: 0.0338, val_loss2: -0.0316\n",
      "Epoch[21], val_loss1: 0.0350, val_loss2: -0.0329\n",
      "Epoch[22], val_loss1: 0.0369, val_loss2: -0.0346\n",
      "Epoch[23], val_loss1: 0.0345, val_loss2: -0.0325\n",
      "Epoch[24], val_loss1: 0.0343, val_loss2: -0.0324\n",
      "Epoch[25], val_loss1: 0.0350, val_loss2: -0.0332\n",
      "Epoch[26], val_loss1: 0.0360, val_loss2: -0.0342\n",
      "Epoch[27], val_loss1: 0.0334, val_loss2: -0.0310\n",
      "Epoch[28], val_loss1: 0.0328, val_loss2: -0.0307\n",
      "Epoch[29], val_loss1: 0.0326, val_loss2: -0.0307\n",
      "Epoch[30], val_loss1: 0.0325, val_loss2: -0.0306\n",
      "Epoch[31], val_loss1: 0.0325, val_loss2: -0.0307\n",
      "Epoch[32], val_loss1: 0.0329, val_loss2: -0.0311\n",
      "Epoch[33], val_loss1: 0.0322, val_loss2: -0.0305\n",
      "Epoch[34], val_loss1: 0.0328, val_loss2: -0.0312\n",
      "Epoch[35], val_loss1: 0.0323, val_loss2: -0.0307\n",
      "Epoch[36], val_loss1: 0.0325, val_loss2: -0.0309\n",
      "Epoch[37], val_loss1: 0.0322, val_loss2: -0.0307\n",
      "Epoch[38], val_loss1: 0.0325, val_loss2: -0.0311\n",
      "Epoch[39], val_loss1: 0.0325, val_loss2: -0.0311\n",
      "Epoch[40], val_loss1: 0.0325, val_loss2: -0.0311\n",
      "Epoch[41], val_loss1: 0.0327, val_loss2: -0.0313\n",
      "Epoch[42], val_loss1: 0.0328, val_loss2: -0.0315\n",
      "Epoch[43], val_loss1: 0.0325, val_loss2: -0.0312\n",
      "Epoch[44], val_loss1: 0.0328, val_loss2: -0.0316\n",
      "Epoch[45], val_loss1: 0.0329, val_loss2: -0.0317\n",
      "Epoch[46], val_loss1: 0.0328, val_loss2: -0.0316\n",
      "Epoch[47], val_loss1: 0.0338, val_loss2: -0.0326\n",
      "Epoch[48], val_loss1: 0.0676, val_loss2: -0.0649\n",
      "Epoch[49], val_loss1: 0.0738, val_loss2: -0.0710\n",
      "Epoch[50], val_loss1: 0.0744, val_loss2: -0.0717\n",
      "Epoch[51], val_loss1: 0.0753, val_loss2: -0.0734\n",
      "Epoch[52], val_loss1: 0.0743, val_loss2: -0.0726\n",
      "Epoch[53], val_loss1: 0.0745, val_loss2: -0.0728\n",
      "Epoch[54], val_loss1: 0.0742, val_loss2: -0.0726\n",
      "Epoch[55], val_loss1: 0.0740, val_loss2: -0.0724\n",
      "Epoch[56], val_loss1: 0.0744, val_loss2: -0.0729\n",
      "Epoch[57], val_loss1: 0.0747, val_loss2: -0.0731\n",
      "Epoch[58], val_loss1: 0.0744, val_loss2: -0.0728\n",
      "Epoch[59], val_loss1: 0.0733, val_loss2: -0.0718\n",
      "Epoch[60], val_loss1: 0.0738, val_loss2: -0.0724\n",
      "Epoch[61], val_loss1: 0.0724, val_loss2: -0.0710\n",
      "Epoch[62], val_loss1: 0.0724, val_loss2: -0.0710\n",
      "Epoch[63], val_loss1: 0.0726, val_loss2: -0.0713\n",
      "Epoch[64], val_loss1: 0.0730, val_loss2: -0.0717\n",
      "Epoch[65], val_loss1: 0.0731, val_loss2: -0.0718\n",
      "Epoch[66], val_loss1: 0.0722, val_loss2: -0.0709\n",
      "Epoch[67], val_loss1: 0.0718, val_loss2: -0.0706\n",
      "Epoch[68], val_loss1: 0.0714, val_loss2: -0.0702\n",
      "Epoch[69], val_loss1: 0.0712, val_loss2: -0.0699\n",
      "Epoch[70], val_loss1: 0.0709, val_loss2: -0.0697\n",
      "Epoch[71], val_loss1: 0.0710, val_loss2: -0.0699\n",
      "Epoch[72], val_loss1: 0.0710, val_loss2: -0.0698\n",
      "Epoch[73], val_loss1: 0.0710, val_loss2: -0.0698\n",
      "Epoch[74], val_loss1: 0.0706, val_loss2: -0.0695\n",
      "Epoch[75], val_loss1: 0.0711, val_loss2: -0.0700\n",
      "Epoch[76], val_loss1: 0.0706, val_loss2: -0.0695\n",
      "Epoch[77], val_loss1: 0.0713, val_loss2: -0.0702\n",
      "Epoch[78], val_loss1: 0.0710, val_loss2: -0.0700\n",
      "Epoch[79], val_loss1: 0.0710, val_loss2: -0.0700\n",
      "Epoch[80], val_loss1: 0.0712, val_loss2: -0.0701\n",
      "Epoch[81], val_loss1: 0.0714, val_loss2: -0.0704\n",
      "Epoch[82], val_loss1: 0.0710, val_loss2: -0.0700\n",
      "Epoch[83], val_loss1: 0.0709, val_loss2: -0.0699\n",
      "Epoch[84], val_loss1: 0.0707, val_loss2: -0.0697\n",
      "Epoch[85], val_loss1: 0.0711, val_loss2: -0.0701\n",
      "Epoch[86], val_loss1: 0.0711, val_loss2: -0.0701\n",
      "Epoch[87], val_loss1: 0.0710, val_loss2: -0.0700\n",
      "Epoch[88], val_loss1: 0.0710, val_loss2: -0.0700\n",
      "Epoch[89], val_loss1: 0.0708, val_loss2: -0.0698\n",
      "Epoch[90], val_loss1: 0.0708, val_loss2: -0.0698\n",
      "Epoch[91], val_loss1: 0.0711, val_loss2: -0.0702\n",
      "Epoch[92], val_loss1: 0.0722, val_loss2: -0.0713\n",
      "Epoch[93], val_loss1: 0.0721, val_loss2: -0.0712\n",
      "Epoch[94], val_loss1: 0.0787, val_loss2: -0.0771\n",
      "Epoch[95], val_loss1: 0.0800, val_loss2: -0.0785\n",
      "Epoch[96], val_loss1: 0.0836, val_loss2: -0.0821\n",
      "Epoch[97], val_loss1: 0.0836, val_loss2: -0.0821\n",
      "Epoch[98], val_loss1: 0.0837, val_loss2: -0.0821\n",
      "Epoch[99], val_loss1: 0.0837, val_loss2: -0.0821\n"
     ]
    }
   ],
   "source": [
    "optimal_model, optimal_train_loader, optimal_val_loader, optimal_test_loader = define_model(7919, 100, 100)\n",
    "history_optimal = training(100,optimal_model,optimal_train_loader,optimal_val_loader)"
   ]
  },
  {
   "cell_type": "code",
   "execution_count": 49,
   "metadata": {},
   "outputs": [
    {
     "data": {
      "image/png": "[encoded data removed]",
      "text/plain": [
       "<Figure size 432x288 with 1 Axes>"
      ]
     },
     "metadata": {
      "needs_background": "light"
     },
     "output_type": "display_data"
    }
   ],
   "source": [
    "plot_history(history_optimal)"
   ]
  },
  {
   "cell_type": "code",
   "execution_count": 50,
   "metadata": {},
   "outputs": [
    {
     "data": {
      "image/png": "[encoded data removed]",
      "text/plain": [
       "<Figure size 432x288 with 1 Axes>"
      ]
     },
     "metadata": {
      "needs_background": "light"
     },
     "output_type": "display_data"
    }
   ],
   "source": [
    "torch.save({\n",
    "            'encoder': optimal_model.encoder.state_dict(),\n",
    "            'decoder1': optimal_model.decoder1.state_dict(),\n",
    "            'decoder2': optimal_model.decoder2.state_dict()\n",
    "            }, \"optimal.pth\")\n",
    "\n",
    "optimal_checkpoint = torch.load(\"optimal.pth\")\n",
    "\n",
    "optimal_model.encoder.load_state_dict(optimal_checkpoint['encoder'])\n",
    "optimal_model.decoder1.load_state_dict(optimal_checkpoint['decoder1'])\n",
    "optimal_model.decoder2.load_state_dict(optimal_checkpoint['decoder2'])\n",
    "\n",
    "optimal_results=testing(optimal_model,optimal_test_loader)\n",
    "optimal_y_pred=np.concatenate([torch.stack(optimal_results[:-1]).flatten().detach().cpu().numpy(),\n",
    "                              optimal_results[-1].flatten().detach().cpu().numpy()])\n",
    "optimal_threshold=ROC(y_test,optimal_y_pred)"
   ]
  },
  {
   "cell_type": "code",
   "execution_count": null,
   "metadata": {},
   "outputs": [],
   "source": []
  }
 ],
 "metadata": {
  "accelerator": "GPU",
  "colab": {
   "name": "USAD_test.ipynb",
   "provenance": [],
   "toc_visible": true
  },
  "kernelspec": {
   "display_name": "Python 3 (ipykernel)",
   "language": "python",
   "name": "python3"
  },
  "language_info": {
   "codemirror_mode": {
    "name": "ipython",
    "version": 3
   },
   "file_extension": ".py",
   "mimetype": "text/x-python",
   "name": "python",
   "nbconvert_exporter": "python",
   "pygments_lexer": "ipython3",
   "version": "3.9.13"
  }
 },
 "nbformat": 4,
 "nbformat_minor": 4
}
